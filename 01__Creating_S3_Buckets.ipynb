{
  "nbformat": 4,
  "nbformat_minor": 0,
  "metadata": {
    "colab": {
      "provenance": []
    },
    "kernelspec": {
      "name": "python3",
      "display_name": "Python 3"
    },
    "language_info": {
      "name": "python"
    }
  },
  "cells": [
    {
      "cell_type": "markdown",
      "source": [
        "# Creating S3 Bucket"
      ],
      "metadata": {
        "id": "63F00bXSbUSQ"
      }
    },
    {
      "cell_type": "markdown",
      "source": [
        "### Installing Required Libraries"
      ],
      "metadata": {
        "id": "_mcb0Kg2bHRw"
      }
    },
    {
      "cell_type": "code",
      "source": [
        "pip install sagemaker"
      ],
      "metadata": {
        "id": "ejD4xtHrasiW"
      },
      "execution_count": null,
      "outputs": []
    },
    {
      "cell_type": "code",
      "execution_count": 3,
      "metadata": {
        "id": "LJtzMrdiahzz"
      },
      "outputs": [],
      "source": [
        "import sagemaker\n",
        "import boto3\n",
        "from sagemaker.amazon.amazon_estimator import get_image_uri\n",
        "from sagemaker.session import s3_input, Session"
      ]
    },
    {
      "cell_type": "markdown",
      "source": [
        "### Creating Bucket & Picking the Region"
      ],
      "metadata": {
        "id": "qpJdiWlfbK24"
      }
    },
    {
      "cell_type": "code",
      "source": [
        "bucket_name = 'bankapplication'\n",
        "my_region = boto3.session.Session().region_name\n",
        "print(my_region)"
      ],
      "metadata": {
        "colab": {
          "base_uri": "https://localhost:8080/"
        },
        "id": "QPunnPMKampU",
        "outputId": "734ca491-4cbc-4ce9-8f9b-17d639c4a5a3"
      },
      "execution_count": 4,
      "outputs": [
        {
          "output_type": "stream",
          "name": "stdout",
          "text": [
            "None\n"
          ]
        }
      ]
    },
    {
      "cell_type": "code",
      "source": [
        "s3 = boto3.resource('s3')\n",
        "try:\n",
        "    if  my_region == 'us-east-1':\n",
        "        s3.create_bucket(Bucket=bucket_name)\n",
        "    print('S3 bucket created successfully')\n",
        "except Exception as e:\n",
        "    print('S3 error: ',e)"
      ],
      "metadata": {
        "colab": {
          "base_uri": "https://localhost:8080/"
        },
        "id": "uvhSIVBGa4ni",
        "outputId": "b4df6e45-6223-492e-81fe-ca897d92cc46"
      },
      "execution_count": 5,
      "outputs": [
        {
          "output_type": "stream",
          "name": "stdout",
          "text": [
            "S3 bucket created successfully\n"
          ]
        }
      ]
    },
    {
      "cell_type": "code",
      "source": [
        "prefix = 'xgboost-as-a-built-in-algo'\n",
        "output_path ='s3://{}/{}/output'.format(bucket_name, prefix)\n",
        "print(output_path)"
      ],
      "metadata": {
        "colab": {
          "base_uri": "https://localhost:8080/"
        },
        "id": "rseLjCSGa5Yp",
        "outputId": "972a0b65-d8f9-4841-fbb1-cd71d669375b"
      },
      "execution_count": 6,
      "outputs": [
        {
          "output_type": "stream",
          "name": "stdout",
          "text": [
            "s3://bankapplication/xgboost-as-a-built-in-algo/output\n"
          ]
        }
      ]
    }
  ]
}